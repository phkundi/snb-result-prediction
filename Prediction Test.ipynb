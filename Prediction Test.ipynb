{
 "cells": [
  {
   "cell_type": "markdown",
   "metadata": {},
   "source": [
    "# Predicting athlete results in snowboarding"
   ]
  },
  {
   "cell_type": "markdown",
   "metadata": {},
   "source": [
    "In this example we will try an approach to predict an athletes' performance based on past results of the athlete and on information about the current event"
   ]
  },
  {
   "cell_type": "markdown",
   "metadata": {},
   "source": [
    "First we need to import some tools that will help us fetch the data from the WST website. If we have a database with the necessary data, we can use the data from there but for this example, we will just scrape everything that is necessary"
   ]
  },
  {
   "cell_type": "code",
   "execution_count": 111,
   "metadata": {},
   "outputs": [],
   "source": [
    "import requests\n",
    "from bs4 import BeautifulSoup\n",
    "import pandas as pd\n",
    "import numpy as np\n",
    "from datetime import datetime"
   ]
  },
  {
   "cell_type": "markdown",
   "metadata": {},
   "source": [
    "Next, we define the athlete we want to predict the result for. We will use **Clemens Millauer** as an example"
   ]
  },
  {
   "cell_type": "code",
   "execution_count": 112,
   "metadata": {},
   "outputs": [],
   "source": [
    "current_athlete = \"http://www.worldsnowboarding.org/riders/clemens-millauer/\""
   ]
  },
  {
   "cell_type": "markdown",
   "metadata": {},
   "source": [
    "To make things easier, we will take a past event and try to see how our predictions will differ from the actual result that Clemens achieved. This will be our \"current event\""
   ]
  },
  {
   "cell_type": "code",
   "execution_count": 113,
   "metadata": {},
   "outputs": [],
   "source": [
    "current_event = \"http://www.worldsnowboarding.org/events/fis-world-cup-2020-8\""
   ]
  },
  {
   "cell_type": "markdown",
   "metadata": {},
   "source": [
    "## Getting information about the current event"
   ]
  },
  {
   "cell_type": "markdown",
   "metadata": {},
   "source": [
    "As a first step, we will get some data about the current event. The most basic information we need is the discipline and the date. Then also, factors such as the number of competitors and their standing in the world points list could be important factors for our prediction"
   ]
  },
  {
   "cell_type": "markdown",
   "metadata": {},
   "source": [
    "Using the link to the current event, we fetch the HTML from the event page"
   ]
  },
  {
   "cell_type": "code",
   "execution_count": 114,
   "metadata": {},
   "outputs": [],
   "source": [
    "res = requests.get(current_event)\n",
    "soup = BeautifulSoup(res.content, 'html.parser')"
   ]
  },
  {
   "cell_type": "markdown",
   "metadata": {},
   "source": [
    "### Basic Event Details"
   ]
  },
  {
   "cell_type": "markdown",
   "metadata": {},
   "source": [
    "In the code below, we scrape the HTML to get some basic information about the event"
   ]
  },
  {
   "cell_type": "code",
   "execution_count": 115,
   "metadata": {},
   "outputs": [],
   "source": [
    "header = soup.find(class_=\"detailed-header\")\n",
    "ce_name = header.find(class_=\"event-label\").get_text().strip()\n",
    "\n",
    "details = header.find(class_=\"icon-group\")\n",
    "ce_disciplines = details.find_all(class_=\"icon-discipline-large\")\n",
    "ce_disciplines = [d.get_text().strip() for d in ce_disciplines]\n",
    "ce_genders = details.find(class_=\"icon-type-large\").get_text().strip()\n",
    "ce_genders = [event_genders[i:i+1] for i in range(0, len(event_genders), 1)]\n",
    "\n",
    "ce_start_date = None\n",
    "ce_info = header.find(class_=\"plain-list\")\n",
    "items = ce_info.find_all(\"li\")\n",
    "\n",
    "for item in items:\n",
    "    item_text = item.get_text()\n",
    "    if \"Date:\" in item_text:\n",
    "        date = item_text.strip().replace(\"Date: \", \"\")\n",
    "        if \" - \" in date:\n",
    "            date_range = date.split(\" - \")\n",
    "            ce_start_date = date_range[0]\n",
    "            ce_start_date = datetime.strptime(ce_start_date, \"%d.%m.%y\")\n",
    "        else:\n",
    "            ce_start_date = datetime.strptime(date, \"%d.%m.%y\")"
   ]
  },
  {
   "cell_type": "markdown",
   "metadata": {},
   "source": [
    "That gives us the following information:"
   ]
  },
  {
   "cell_type": "code",
   "execution_count": 116,
   "metadata": {},
   "outputs": [
    {
     "name": "stdout",
     "output_type": "stream",
     "text": [
      "Event Name: FIS World Cup\n",
      "Event Disciplines: ['HP', 'SS']\n",
      "Event Competitions: [['M'], ['W']]\n",
      "Event Start Date: 13.02.20\n"
     ]
    }
   ],
   "source": [
    "print(f\"Event Name: {ce_name}\")\n",
    "print(f\"Event Disciplines: {ce_disciplines}\")\n",
    "print(f\"Event Competitions: {ce_genders}\" )\n",
    "print(f\"Event Start Date: {ce_start_date}\")"
   ]
  },
  {
   "cell_type": "markdown",
   "metadata": {},
   "source": [
    "As we can see, the event we chose for this example has multiple disciplines for both Men and Women. As we are going with the example of Clemens, we will only consider the Mens Slopestyle event for this example. If you visit the link yourself, you can see that this competition is already selected by default so we don't need to do any extra work here"
   ]
  },
  {
   "cell_type": "markdown",
   "metadata": {},
   "source": [
    "### Number of competitors"
   ]
  },
  {
   "cell_type": "markdown",
   "metadata": {},
   "source": [
    "In order to make our prediction, we need the number of competitors for the current event."
   ]
  },
  {
   "cell_type": "code",
   "execution_count": 117,
   "metadata": {},
   "outputs": [
    {
     "name": "stdout",
     "output_type": "stream",
     "text": [
      "51\n"
     ]
    }
   ],
   "source": [
    "ranking_table = soup.find(\"table\", class_=\"rank-results\")\n",
    "ranks = ranking_table.find_all(class_=\"rank\")\n",
    "ce_number_competitors = len(ranks)\n",
    "print(ce_number_competitors)"
   ]
  },
  {
   "cell_type": "markdown",
   "metadata": {},
   "source": [
    "### Average WSPL points"
   ]
  },
  {
   "cell_type": "markdown",
   "metadata": {},
   "source": [
    "Also we will consider the average number of WSPL points that the athlete field has. For this we need to get every competitors current WSPL points from his profile and calculate the average"
   ]
  },
  {
   "cell_type": "code",
   "execution_count": 118,
   "metadata": {},
   "outputs": [
    {
     "name": "stderr",
     "output_type": "stream",
     "text": [
      "Some characters could not be decoded, and were replaced with REPLACEMENT CHARACTER.\n"
     ]
    }
   ],
   "source": [
    "points_sum = 0\n",
    "\n",
    "for result in ranks:\n",
    "    cells = result.find_all(\"td\")\n",
    "    athlete_profile = cells[1].find(\"a\")['href']\n",
    "    res = requests.get(\"http://worldsnowboarding.org\" + athlete_profile)\n",
    "    profile = BeautifulSoup(res.content, 'html.parser')\n",
    "    ss_details = profile.find(id=\"result-table-points-list-ss\").find_all(\"li\")\n",
    "\n",
    "    for i in ss_details:\n",
    "        if \"Current Points\" in i.get_text().strip():\n",
    "            profile_ss_points = float(i.find(\"strong\").get_text())\n",
    "            points_sum += profile_ss_points"
   ]
  },
  {
   "cell_type": "code",
   "execution_count": 121,
   "metadata": {},
   "outputs": [
    {
     "name": "stdout",
     "output_type": "stream",
     "text": [
      "405.62\n"
     ]
    }
   ],
   "source": [
    "ce_points_average = round((points_sum / ce_number_competitors),2)\n",
    "print(ce_points_average)"
   ]
  },
  {
   "cell_type": "markdown",
   "metadata": {},
   "source": [
    "### Current Event Summary"
   ]
  },
  {
   "cell_type": "code",
   "execution_count": 122,
   "metadata": {},
   "outputs": [
    {
     "name": "stdout",
     "output_type": "stream",
     "text": [
      "Event Name: FIS World Cup\n",
      "Event Disciplines: ['HP', 'SS']\n",
      "Event Competitions: [['M'], ['W']]\n",
      "Event Start Date: 13.02.20\n",
      "Number of Competitors: 51\n",
      "Average WSPL Points: 405.62\n"
     ]
    }
   ],
   "source": [
    "print(f\"Event Name: {ce_name}\")\n",
    "print(f\"Event Disciplines: {ce_disciplines}\")\n",
    "print(f\"Event Competitions: {ce_genders}\" )\n",
    "print(f\"Event Start Date: {ce_start_date}\")\n",
    "print(f\"Number of Competitors: {ce_number_competitors}\")\n",
    "print(f\"Average WSPL Points: {ce_points_average}\")"
   ]
  },
  {
   "cell_type": "markdown",
   "metadata": {},
   "source": [
    "## Getting Information about the athlete"
   ]
  },
  {
   "cell_type": "markdown",
   "metadata": {},
   "source": [
    "Next up, we need some past data about the athlete so we can then make a prediction. Primarily, we want details about the past events that he participated in and about his performance in those"
   ]
  },
  {
   "cell_type": "markdown",
   "metadata": {},
   "source": [
    "### Collect past events"
   ]
  },
  {
   "cell_type": "markdown",
   "metadata": {},
   "source": [
    "Below, we first define a helper function which will return the number of months lying between today and a given date. We will use it to determine how long ago an event happened. This is important, as we will not consider results that are older than 4 years (48 months). Later we will use it again to give more recent results more weight in the calculation."
   ]
  },
  {
   "cell_type": "code",
   "execution_count": 52,
   "metadata": {},
   "outputs": [],
   "source": [
    "def diff_month(date):\n",
    "    now = datetime.now()\n",
    "    return (now.year - date.year) * 12 + now.month - date.month"
   ]
  },
  {
   "cell_type": "markdown",
   "metadata": {},
   "source": [
    "First, we need a list of all of the events of the current events' discipline that our athlete has previously particpated in. To get that, we will visit his profile link and collect all of the URLs and some other basic information about the relevant events"
   ]
  },
  {
   "cell_type": "code",
   "execution_count": 68,
   "metadata": {},
   "outputs": [],
   "source": [
    "res = requests.get(current_athlete)\n",
    "soup = BeautifulSoup(res.content, 'html.parser')\n",
    "results_table = soup.find(id=\"result-table-all-results-all-results\").find(class_=\"rank-results\")\n",
    "results = results_table.find_all(class_=\"rank\")\n",
    "\n",
    "rider_results = []\n",
    "for result in results:\n",
    "    cells = result.find_all(\"td\")\n",
    "    result_discipline = cells[-1].find(class_=\"icon-discipline-medium\").get_text().strip()\n",
    "    if result_discipline == \"SS\":\n",
    "        event_date = cells[0].get_text().strip()\n",
    "        event_date = datetime.strptime(event_date, \"%d.%m.%y\")\n",
    "        \n",
    "        if diff_month(event_date) < 48 and event_date < ce_start_date:\n",
    "            rank = cells[1].get_text().strip().replace(\"st\", \"\").replace(\"nd\", \"\").replace(\"rd\", \"\").replace(\"th\", \"\")\n",
    "            rank = int(rank)\n",
    "            event_name = cells[3].find(\"a\").get_text().strip()\n",
    "            event_link = cells[3].find(\"a\")['href']\n",
    "            event_link = \"http://worldsnowboarding.org\" + event_link\n",
    "            \n",
    "            # Make sure we don't consider the event we want to predict\n",
    "            if event_link != current_event:\n",
    "                rider_results.append({\n",
    "                    \"event_name\": event_name,\n",
    "                    \"event_date\": event_date.date(),\n",
    "                    \"event_link\": event_link,\n",
    "                    \"rider_rank\": rank\n",
    "                })"
   ]
  },
  {
   "cell_type": "markdown",
   "metadata": {},
   "source": [
    "The output of the above code is a list of the events where each object contains information about the events that the athlete participated in: Event Name, Event Date, Event Link & the athletes result in that event.\n",
    "\n",
    "As a next step, we want to complement these objects with additional information about the event. Specifically, we want to know how many athletes participated in each event and again what their average WSPL points were.\n",
    "\n",
    "Once we have this information, we can calculate the **average percentile finish** of our current athlete across all of the events we have just looked at as an indicator for future performance"
   ]
  },
  {
   "cell_type": "markdown",
   "metadata": {},
   "source": [
    "### Analyze Past Events"
   ]
  },
  {
   "cell_type": "markdown",
   "metadata": {},
   "source": [
    "Lets quickly have a look at how many results we are working with now. The following number represents the amount of Slopestyle events that Clemens participated in within the past 4 years."
   ]
  },
  {
   "cell_type": "code",
   "execution_count": 123,
   "metadata": {},
   "outputs": [
    {
     "data": {
      "text/plain": [
       "17"
      ]
     },
     "execution_count": 123,
     "metadata": {},
     "output_type": "execute_result"
    }
   ],
   "source": [
    "len(rider_results)"
   ]
  },
  {
   "cell_type": "markdown",
   "metadata": {},
   "source": [
    "Below we create an object to store the points for athletes whose profile we already visited because otherwise we need to go to the same profiles over and over again which will take a long time to run"
   ]
  },
  {
   "cell_type": "code",
   "execution_count": 55,
   "metadata": {},
   "outputs": [],
   "source": [
    "points_cache = {}"
   ]
  },
  {
   "cell_type": "markdown",
   "metadata": {},
   "source": [
    "The following code iterates over the list of events that we just created, filters for events not older than 4 years before the current event and adds information about number of competitors and their WSPL points to each"
   ]
  },
  {
   "cell_type": "code",
   "execution_count": 70,
   "metadata": {},
   "outputs": [
    {
     "name": "stderr",
     "output_type": "stream",
     "text": [
      "Some characters could not be decoded, and were replaced with REPLACEMENT CHARACTER.\n",
      "Some characters could not be decoded, and were replaced with REPLACEMENT CHARACTER.\n",
      "Some characters could not be decoded, and were replaced with REPLACEMENT CHARACTER.\n",
      "Some characters could not be decoded, and were replaced with REPLACEMENT CHARACTER.\n",
      "Some characters could not be decoded, and were replaced with REPLACEMENT CHARACTER.\n",
      "Some characters could not be decoded, and were replaced with REPLACEMENT CHARACTER.\n",
      "Some characters could not be decoded, and were replaced with REPLACEMENT CHARACTER.\n",
      "Some characters could not be decoded, and were replaced with REPLACEMENT CHARACTER.\n"
     ]
    }
   ],
   "source": [
    "for event in rider_results:\n",
    "    res = requests.get(event['event_link'])\n",
    "    soup = BeautifulSoup(res.content, 'html.parser')\n",
    "    ranking_table = soup.find(\"table\", class_=\"rank-results\")\n",
    "    ranks = ranking_table.find_all(class_=\"rank\")\n",
    "    number_competitors = len(ranks)\n",
    "\n",
    "    points_sum = 0\n",
    "    missed_riders = 0\n",
    "    for result in ranks:\n",
    "        cells = result.find_all(\"td\")\n",
    "        athlete_profile = cells[1].find(\"a\")['href']\n",
    "\n",
    "        if athlete_profile in points_cache.keys():\n",
    "            points_sum += points_cache[athlete_profile]\n",
    "        else:\n",
    "            res = requests.get(\"http://worldsnowboarding.org\" + athlete_profile)\n",
    "            profile = BeautifulSoup(res.content, 'html.parser')\n",
    "\n",
    "            try:\n",
    "                ss_details = profile.find(id=\"result-table-points-list-ss\").find_all(\"li\")\n",
    "            except AttributeError:\n",
    "                ss_details = None\n",
    "                missed_riders += 1\n",
    "\n",
    "            if ss_details:\n",
    "                for i in ss_details:\n",
    "                    if \"Current Points\" in i.get_text().strip():\n",
    "                        profile_ss_points = float(i.find(\"strong\").get_text())\n",
    "                        points_sum += profile_ss_points\n",
    "                        points_cache[athlete_profile] = profile_ss_points\n",
    "\n",
    "    counted_riders = number_competitors - missed_riders\n",
    "    points_average = round((points_sum / counted_riders),2)\n",
    "\n",
    "    event['event_competitors'] = number_competitors\n",
    "    event['points_average'] = points_average"
   ]
  },
  {
   "cell_type": "markdown",
   "metadata": {},
   "source": [
    "### Analyze past athlete performance"
   ]
  },
  {
   "cell_type": "markdown",
   "metadata": {},
   "source": [
    "Now that we have the data about the athletes activity in the past 4 years, we can go ahead and analyze it.\n",
    "\n",
    "As mentioned before, we will first calculate the percentile in which the athlete finished for each event and add it to the information in our athlete results collection"
   ]
  },
  {
   "cell_type": "code",
   "execution_count": 72,
   "metadata": {},
   "outputs": [],
   "source": [
    "for event in rider_results:\n",
    "    event['rank_percentile'] = event['rider_rank'] / event['event_competitors']"
   ]
  },
  {
   "cell_type": "markdown",
   "metadata": {},
   "source": [
    "### Data Overview"
   ]
  },
  {
   "cell_type": "markdown",
   "metadata": {},
   "source": [
    "Now lets actually have a look at what our data collection currently looks like"
   ]
  },
  {
   "cell_type": "code",
   "execution_count": 144,
   "metadata": {},
   "outputs": [
    {
     "data": {
      "text/html": [
       "<div>\n",
       "<style scoped>\n",
       "    .dataframe tbody tr th:only-of-type {\n",
       "        vertical-align: middle;\n",
       "    }\n",
       "\n",
       "    .dataframe tbody tr th {\n",
       "        vertical-align: top;\n",
       "    }\n",
       "\n",
       "    .dataframe thead th {\n",
       "        text-align: right;\n",
       "    }\n",
       "</style>\n",
       "<table border=\"1\" class=\"dataframe\">\n",
       "  <thead>\n",
       "    <tr style=\"text-align: right;\">\n",
       "      <th></th>\n",
       "      <th>event_name</th>\n",
       "      <th>event_date</th>\n",
       "      <th>rider_rank</th>\n",
       "      <th>event_competitors</th>\n",
       "      <th>points_average</th>\n",
       "      <th>rank_percentile</th>\n",
       "    </tr>\n",
       "  </thead>\n",
       "  <tbody>\n",
       "    <tr>\n",
       "      <th>0</th>\n",
       "      <td>FIS World Cup</td>\n",
       "      <td>2020-01-22</td>\n",
       "      <td>18</td>\n",
       "      <td>49</td>\n",
       "      <td>338.36</td>\n",
       "      <td>0.367347</td>\n",
       "    </tr>\n",
       "    <tr>\n",
       "      <th>1</th>\n",
       "      <td>LAAX Open - FIS World Cup</td>\n",
       "      <td>2020-01-13</td>\n",
       "      <td>23</td>\n",
       "      <td>58</td>\n",
       "      <td>398.55</td>\n",
       "      <td>0.396552</td>\n",
       "    </tr>\n",
       "    <tr>\n",
       "      <th>2</th>\n",
       "      <td>Toyota U.S. Grand Prix</td>\n",
       "      <td>2019-03-03</td>\n",
       "      <td>41</td>\n",
       "      <td>58</td>\n",
       "      <td>385.43</td>\n",
       "      <td>0.706897</td>\n",
       "    </tr>\n",
       "    <tr>\n",
       "      <th>3</th>\n",
       "      <td>Burton US Open Snowboarding Championships</td>\n",
       "      <td>2019-03-02</td>\n",
       "      <td>13</td>\n",
       "      <td>29</td>\n",
       "      <td>528.30</td>\n",
       "      <td>0.448276</td>\n",
       "    </tr>\n",
       "    <tr>\n",
       "      <th>4</th>\n",
       "      <td>FIS World Snowboard Championships</td>\n",
       "      <td>2019-01-31</td>\n",
       "      <td>13</td>\n",
       "      <td>58</td>\n",
       "      <td>362.89</td>\n",
       "      <td>0.224138</td>\n",
       "    </tr>\n",
       "    <tr>\n",
       "      <th>5</th>\n",
       "      <td>FIS World Cup - Day 1</td>\n",
       "      <td>2019-01-11</td>\n",
       "      <td>48</td>\n",
       "      <td>50</td>\n",
       "      <td>303.95</td>\n",
       "      <td>0.960000</td>\n",
       "    </tr>\n",
       "    <tr>\n",
       "      <th>6</th>\n",
       "      <td>Spring Battle</td>\n",
       "      <td>2018-03-17</td>\n",
       "      <td>1</td>\n",
       "      <td>31</td>\n",
       "      <td>400.68</td>\n",
       "      <td>0.032258</td>\n",
       "    </tr>\n",
       "    <tr>\n",
       "      <th>7</th>\n",
       "      <td>FIS World Cup</td>\n",
       "      <td>2018-03-15</td>\n",
       "      <td>9</td>\n",
       "      <td>55</td>\n",
       "      <td>303.48</td>\n",
       "      <td>0.163636</td>\n",
       "    </tr>\n",
       "    <tr>\n",
       "      <th>8</th>\n",
       "      <td>Burton US Open Snowboarding Championships</td>\n",
       "      <td>2018-03-05</td>\n",
       "      <td>26</td>\n",
       "      <td>32</td>\n",
       "      <td>490.45</td>\n",
       "      <td>0.812500</td>\n",
       "    </tr>\n",
       "    <tr>\n",
       "      <th>9</th>\n",
       "      <td>XXIII Olympic Winter Games 2018</td>\n",
       "      <td>2018-02-11</td>\n",
       "      <td>13</td>\n",
       "      <td>35</td>\n",
       "      <td>401.17</td>\n",
       "      <td>0.371429</td>\n",
       "    </tr>\n",
       "    <tr>\n",
       "      <th>10</th>\n",
       "      <td>Audi Quattro Winter Games NZ - FIS World Cup</td>\n",
       "      <td>2017-09-01</td>\n",
       "      <td>39</td>\n",
       "      <td>54</td>\n",
       "      <td>404.79</td>\n",
       "      <td>0.722222</td>\n",
       "    </tr>\n",
       "    <tr>\n",
       "      <th>11</th>\n",
       "      <td>Swiss Freestyle Champs presented by Audi Snowb...</td>\n",
       "      <td>2017-04-18</td>\n",
       "      <td>14</td>\n",
       "      <td>64</td>\n",
       "      <td>196.57</td>\n",
       "      <td>0.218750</td>\n",
       "    </tr>\n",
       "    <tr>\n",
       "      <th>12</th>\n",
       "      <td>FIS World Cup - Spindleruv Mlyn</td>\n",
       "      <td>2017-03-21</td>\n",
       "      <td>55</td>\n",
       "      <td>65</td>\n",
       "      <td>324.23</td>\n",
       "      <td>0.846154</td>\n",
       "    </tr>\n",
       "    <tr>\n",
       "      <th>13</th>\n",
       "      <td>FIS 12th Snowboard World Championships - Sierr...</td>\n",
       "      <td>2017-03-09</td>\n",
       "      <td>28</td>\n",
       "      <td>60</td>\n",
       "      <td>316.03</td>\n",
       "      <td>0.466667</td>\n",
       "    </tr>\n",
       "    <tr>\n",
       "      <th>14</th>\n",
       "      <td>FIS World Cup - Seiser Alm</td>\n",
       "      <td>2017-01-23</td>\n",
       "      <td>5</td>\n",
       "      <td>55</td>\n",
       "      <td>297.86</td>\n",
       "      <td>0.090909</td>\n",
       "    </tr>\n",
       "    <tr>\n",
       "      <th>15</th>\n",
       "      <td>LAAX OPEN 2017</td>\n",
       "      <td>2017-01-16</td>\n",
       "      <td>32</td>\n",
       "      <td>59</td>\n",
       "      <td>357.09</td>\n",
       "      <td>0.542373</td>\n",
       "    </tr>\n",
       "    <tr>\n",
       "      <th>16</th>\n",
       "      <td>FIS World Cup - Kreischberg</td>\n",
       "      <td>2017-01-14</td>\n",
       "      <td>43</td>\n",
       "      <td>59</td>\n",
       "      <td>318.30</td>\n",
       "      <td>0.728814</td>\n",
       "    </tr>\n",
       "  </tbody>\n",
       "</table>\n",
       "</div>"
      ],
      "text/plain": [
       "                                           event_name  event_date  rider_rank  \\\n",
       "0                                       FIS World Cup  2020-01-22          18   \n",
       "1                           LAAX Open - FIS World Cup  2020-01-13          23   \n",
       "2                              Toyota U.S. Grand Prix  2019-03-03          41   \n",
       "3           Burton US Open Snowboarding Championships  2019-03-02          13   \n",
       "4                   FIS World Snowboard Championships  2019-01-31          13   \n",
       "5                               FIS World Cup - Day 1  2019-01-11          48   \n",
       "6                                       Spring Battle  2018-03-17           1   \n",
       "7                                       FIS World Cup  2018-03-15           9   \n",
       "8           Burton US Open Snowboarding Championships  2018-03-05          26   \n",
       "9                     XXIII Olympic Winter Games 2018  2018-02-11          13   \n",
       "10       Audi Quattro Winter Games NZ - FIS World Cup  2017-09-01          39   \n",
       "11  Swiss Freestyle Champs presented by Audi Snowb...  2017-04-18          14   \n",
       "12                    FIS World Cup - Spindleruv Mlyn  2017-03-21          55   \n",
       "13  FIS 12th Snowboard World Championships - Sierr...  2017-03-09          28   \n",
       "14                         FIS World Cup - Seiser Alm  2017-01-23           5   \n",
       "15                                     LAAX OPEN 2017  2017-01-16          32   \n",
       "16                        FIS World Cup - Kreischberg  2017-01-14          43   \n",
       "\n",
       "    event_competitors  points_average  rank_percentile  \n",
       "0                  49          338.36         0.367347  \n",
       "1                  58          398.55         0.396552  \n",
       "2                  58          385.43         0.706897  \n",
       "3                  29          528.30         0.448276  \n",
       "4                  58          362.89         0.224138  \n",
       "5                  50          303.95         0.960000  \n",
       "6                  31          400.68         0.032258  \n",
       "7                  55          303.48         0.163636  \n",
       "8                  32          490.45         0.812500  \n",
       "9                  35          401.17         0.371429  \n",
       "10                 54          404.79         0.722222  \n",
       "11                 64          196.57         0.218750  \n",
       "12                 65          324.23         0.846154  \n",
       "13                 60          316.03         0.466667  \n",
       "14                 55          297.86         0.090909  \n",
       "15                 59          357.09         0.542373  \n",
       "16                 59          318.30         0.728814  "
      ]
     },
     "execution_count": 144,
     "metadata": {},
     "output_type": "execute_result"
    }
   ],
   "source": [
    "df = pd.DataFrame(rider_results)\n",
    "df = df[df['event_link'] != current_event]\n",
    "df.drop(['event_link'], axis=1)"
   ]
  },
  {
   "cell_type": "markdown",
   "metadata": {},
   "source": [
    "### Calculate Averages"
   ]
  },
  {
   "cell_type": "markdown",
   "metadata": {},
   "source": [
    "Now we could simply calculate an average percentile and translate that to our current event. \n",
    "\n",
    "However, it would make more sense to calculate a weighted average by giving more recent results more weight than those further in the past.\n",
    "\n",
    "To do this, we can assume the following weights based on the time passed since the event"
   ]
  },
  {
   "cell_type": "markdown",
   "metadata": {},
   "source": [
    "**X = percentile**\n",
    "\n",
    "**W = weighting multiplier**\n",
    "\n",
    "**T = time passed since event in months**\n",
    "\n",
    "T <= 6:\t\t    W = 1\n",
    "\n",
    "6 < T <= 12:     W = 0.8\n",
    "\n",
    "12 < T <= 24: \tW = 0.5\n",
    "\n",
    "24 < T <= 36:   W = 0.3\n",
    "\n",
    "T > 36:          W = 0.1\n"
   ]
  },
  {
   "cell_type": "markdown",
   "metadata": {},
   "source": [
    "We can now go ahead and add a column with the time weighted average"
   ]
  },
  {
   "cell_type": "code",
   "execution_count": 145,
   "metadata": {},
   "outputs": [],
   "source": [
    "for event in rider_results:\n",
    "    months_passed = diff_month(event['event_date'])\n",
    "    if months_passed <= 6:\n",
    "        event['time_multiplier'] = 1\n",
    "    elif months_passed <= 12:\n",
    "        event['time_multiplier'] = 0.8\n",
    "    elif months_passed <= 24:\n",
    "        event['time_multiplier'] = 0.5\n",
    "    elif months_passed <= 36:\n",
    "        event['time_multiplier'] = 0.3\n",
    "    else:\n",
    "        event['time_multiplier'] = 0.1"
   ]
  },
  {
   "cell_type": "markdown",
   "metadata": {},
   "source": [
    "Now we can iterate over the list once again and calculate the weighted average of the placement percentile based on [this explanation of the calculation](https://www.indeed.com/career-advice/career-development/how-to-calculate-weighted-average#3)"
   ]
  },
  {
   "cell_type": "code",
   "execution_count": 151,
   "metadata": {},
   "outputs": [
    {
     "name": "stdout",
     "output_type": "stream",
     "text": [
      "0.46478360532397217\n"
     ]
    }
   ],
   "source": [
    "weight_sum = 0\n",
    "weighted_percentile_sum = 0\n",
    "\n",
    "for event in rider_results:\n",
    "    weighted_percentile_sum += (event['rank_percentile'] * event['time_multiplier'])\n",
    "    weight_sum += event['time_multiplier']\n",
    "\n",
    "time_weighted_average = weighted_percentile_sum / weight_sum\n",
    "print(time_weighted_average)"
   ]
  },
  {
   "cell_type": "markdown",
   "metadata": {},
   "source": [
    "The result of this calculation shows that Clemens' weighted average finish over the last 4 years is in the **46th percentile** of the competitors field."
   ]
  },
  {
   "cell_type": "markdown",
   "metadata": {},
   "source": [
    "## Prediction 1 - Time Weighted Average of past results"
   ]
  },
  {
   "cell_type": "markdown",
   "metadata": {},
   "source": [
    "Given the weighted average result percentile, we can multiply the number of competitors of our current event with this number to get a first prediction of Clemens' result:"
   ]
  },
  {
   "cell_type": "code",
   "execution_count": 147,
   "metadata": {},
   "outputs": [
    {
     "data": {
      "text/plain": [
       "24"
      ]
     },
     "execution_count": 147,
     "metadata": {},
     "output_type": "execute_result"
    }
   ],
   "source": [
    "round(ce_number_competitors*time_weighted_average)"
   ]
  },
  {
   "cell_type": "markdown",
   "metadata": {},
   "source": [
    "According to this calculation, Clemens should have finished in **24th place**. This is quite a bad prediction, as Clemens actually finished 6th in our current event.\n",
    "\n",
    "Most likely, Clemens outperformed his previous results but we can still try to improve our algorithm to come closer to the actual result.\n",
    "\n",
    "In the next step, we will try to also consider the level of the events that he particpated in."
   ]
  },
  {
   "cell_type": "markdown",
   "metadata": {},
   "source": [
    "## Factor in Event Level"
   ]
  },
  {
   "cell_type": "markdown",
   "metadata": {},
   "source": [
    "We already have information about the average WSPL score of the competing athletes for both our current event and the athletes' past event. We can try to adapt our calculation to give more weight to the past events that have a similar level as our current event.\n",
    "\n",
    "To do this, we can identify past events of our athlete that are within a certain threshold of the current events' average WSPL score. Lets say + / - 10%\n",
    "\n",
    "Let's give the results within this threshold a weight of 1.0 and the remaining ones 0.5"
   ]
  },
  {
   "cell_type": "code",
   "execution_count": 148,
   "metadata": {},
   "outputs": [],
   "source": [
    "for event in rider_results:\n",
    "    average_wspl = event['points_average']\n",
    "    deviation = abs((average_wspl / ce_points_average) * 100 - 100)\n",
    "    if deviation <= 10:\n",
    "        event['level_multiplier'] = 1\n",
    "    else:\n",
    "        event['level_multiplier'] = 0.5"
   ]
  },
  {
   "cell_type": "markdown",
   "metadata": {},
   "source": [
    "Lets have another look at what our data looks at this point"
   ]
  },
  {
   "cell_type": "code",
   "execution_count": 149,
   "metadata": {},
   "outputs": [
    {
     "data": {
      "text/html": [
       "<div>\n",
       "<style scoped>\n",
       "    .dataframe tbody tr th:only-of-type {\n",
       "        vertical-align: middle;\n",
       "    }\n",
       "\n",
       "    .dataframe tbody tr th {\n",
       "        vertical-align: top;\n",
       "    }\n",
       "\n",
       "    .dataframe thead th {\n",
       "        text-align: right;\n",
       "    }\n",
       "</style>\n",
       "<table border=\"1\" class=\"dataframe\">\n",
       "  <thead>\n",
       "    <tr style=\"text-align: right;\">\n",
       "      <th></th>\n",
       "      <th>event_name</th>\n",
       "      <th>event_date</th>\n",
       "      <th>rider_rank</th>\n",
       "      <th>event_competitors</th>\n",
       "      <th>points_average</th>\n",
       "      <th>rank_percentile</th>\n",
       "      <th>time_multiplier</th>\n",
       "      <th>level_multiplier</th>\n",
       "    </tr>\n",
       "  </thead>\n",
       "  <tbody>\n",
       "    <tr>\n",
       "      <th>0</th>\n",
       "      <td>FIS World Cup</td>\n",
       "      <td>2020-01-22</td>\n",
       "      <td>18</td>\n",
       "      <td>49</td>\n",
       "      <td>338.36</td>\n",
       "      <td>0.367347</td>\n",
       "      <td>0.8</td>\n",
       "      <td>0.5</td>\n",
       "    </tr>\n",
       "    <tr>\n",
       "      <th>1</th>\n",
       "      <td>LAAX Open - FIS World Cup</td>\n",
       "      <td>2020-01-13</td>\n",
       "      <td>23</td>\n",
       "      <td>58</td>\n",
       "      <td>398.55</td>\n",
       "      <td>0.396552</td>\n",
       "      <td>0.8</td>\n",
       "      <td>1.0</td>\n",
       "    </tr>\n",
       "    <tr>\n",
       "      <th>2</th>\n",
       "      <td>Toyota U.S. Grand Prix</td>\n",
       "      <td>2019-03-03</td>\n",
       "      <td>41</td>\n",
       "      <td>58</td>\n",
       "      <td>385.43</td>\n",
       "      <td>0.706897</td>\n",
       "      <td>0.5</td>\n",
       "      <td>1.0</td>\n",
       "    </tr>\n",
       "    <tr>\n",
       "      <th>3</th>\n",
       "      <td>Burton US Open Snowboarding Championships</td>\n",
       "      <td>2019-03-02</td>\n",
       "      <td>13</td>\n",
       "      <td>29</td>\n",
       "      <td>528.30</td>\n",
       "      <td>0.448276</td>\n",
       "      <td>0.5</td>\n",
       "      <td>0.5</td>\n",
       "    </tr>\n",
       "    <tr>\n",
       "      <th>4</th>\n",
       "      <td>FIS World Snowboard Championships</td>\n",
       "      <td>2019-01-31</td>\n",
       "      <td>13</td>\n",
       "      <td>58</td>\n",
       "      <td>362.89</td>\n",
       "      <td>0.224138</td>\n",
       "      <td>0.5</td>\n",
       "      <td>0.5</td>\n",
       "    </tr>\n",
       "    <tr>\n",
       "      <th>5</th>\n",
       "      <td>FIS World Cup - Day 1</td>\n",
       "      <td>2019-01-11</td>\n",
       "      <td>48</td>\n",
       "      <td>50</td>\n",
       "      <td>303.95</td>\n",
       "      <td>0.960000</td>\n",
       "      <td>0.5</td>\n",
       "      <td>0.5</td>\n",
       "    </tr>\n",
       "    <tr>\n",
       "      <th>6</th>\n",
       "      <td>Spring Battle</td>\n",
       "      <td>2018-03-17</td>\n",
       "      <td>1</td>\n",
       "      <td>31</td>\n",
       "      <td>400.68</td>\n",
       "      <td>0.032258</td>\n",
       "      <td>0.3</td>\n",
       "      <td>1.0</td>\n",
       "    </tr>\n",
       "    <tr>\n",
       "      <th>7</th>\n",
       "      <td>FIS World Cup</td>\n",
       "      <td>2018-03-15</td>\n",
       "      <td>9</td>\n",
       "      <td>55</td>\n",
       "      <td>303.48</td>\n",
       "      <td>0.163636</td>\n",
       "      <td>0.3</td>\n",
       "      <td>0.5</td>\n",
       "    </tr>\n",
       "    <tr>\n",
       "      <th>8</th>\n",
       "      <td>Burton US Open Snowboarding Championships</td>\n",
       "      <td>2018-03-05</td>\n",
       "      <td>26</td>\n",
       "      <td>32</td>\n",
       "      <td>490.45</td>\n",
       "      <td>0.812500</td>\n",
       "      <td>0.3</td>\n",
       "      <td>0.5</td>\n",
       "    </tr>\n",
       "    <tr>\n",
       "      <th>9</th>\n",
       "      <td>XXIII Olympic Winter Games 2018</td>\n",
       "      <td>2018-02-11</td>\n",
       "      <td>13</td>\n",
       "      <td>35</td>\n",
       "      <td>401.17</td>\n",
       "      <td>0.371429</td>\n",
       "      <td>0.3</td>\n",
       "      <td>1.0</td>\n",
       "    </tr>\n",
       "    <tr>\n",
       "      <th>10</th>\n",
       "      <td>Audi Quattro Winter Games NZ - FIS World Cup</td>\n",
       "      <td>2017-09-01</td>\n",
       "      <td>39</td>\n",
       "      <td>54</td>\n",
       "      <td>404.79</td>\n",
       "      <td>0.722222</td>\n",
       "      <td>0.1</td>\n",
       "      <td>1.0</td>\n",
       "    </tr>\n",
       "    <tr>\n",
       "      <th>11</th>\n",
       "      <td>Swiss Freestyle Champs presented by Audi Snowb...</td>\n",
       "      <td>2017-04-18</td>\n",
       "      <td>14</td>\n",
       "      <td>64</td>\n",
       "      <td>196.57</td>\n",
       "      <td>0.218750</td>\n",
       "      <td>0.1</td>\n",
       "      <td>0.5</td>\n",
       "    </tr>\n",
       "    <tr>\n",
       "      <th>12</th>\n",
       "      <td>FIS World Cup - Spindleruv Mlyn</td>\n",
       "      <td>2017-03-21</td>\n",
       "      <td>55</td>\n",
       "      <td>65</td>\n",
       "      <td>324.23</td>\n",
       "      <td>0.846154</td>\n",
       "      <td>0.1</td>\n",
       "      <td>0.5</td>\n",
       "    </tr>\n",
       "    <tr>\n",
       "      <th>13</th>\n",
       "      <td>FIS 12th Snowboard World Championships - Sierr...</td>\n",
       "      <td>2017-03-09</td>\n",
       "      <td>28</td>\n",
       "      <td>60</td>\n",
       "      <td>316.03</td>\n",
       "      <td>0.466667</td>\n",
       "      <td>0.1</td>\n",
       "      <td>0.5</td>\n",
       "    </tr>\n",
       "    <tr>\n",
       "      <th>14</th>\n",
       "      <td>FIS World Cup - Seiser Alm</td>\n",
       "      <td>2017-01-23</td>\n",
       "      <td>5</td>\n",
       "      <td>55</td>\n",
       "      <td>297.86</td>\n",
       "      <td>0.090909</td>\n",
       "      <td>0.1</td>\n",
       "      <td>0.5</td>\n",
       "    </tr>\n",
       "    <tr>\n",
       "      <th>15</th>\n",
       "      <td>LAAX OPEN 2017</td>\n",
       "      <td>2017-01-16</td>\n",
       "      <td>32</td>\n",
       "      <td>59</td>\n",
       "      <td>357.09</td>\n",
       "      <td>0.542373</td>\n",
       "      <td>0.1</td>\n",
       "      <td>0.5</td>\n",
       "    </tr>\n",
       "    <tr>\n",
       "      <th>16</th>\n",
       "      <td>FIS World Cup - Kreischberg</td>\n",
       "      <td>2017-01-14</td>\n",
       "      <td>43</td>\n",
       "      <td>59</td>\n",
       "      <td>318.30</td>\n",
       "      <td>0.728814</td>\n",
       "      <td>0.1</td>\n",
       "      <td>0.5</td>\n",
       "    </tr>\n",
       "  </tbody>\n",
       "</table>\n",
       "</div>"
      ],
      "text/plain": [
       "                                           event_name  event_date  rider_rank  \\\n",
       "0                                       FIS World Cup  2020-01-22          18   \n",
       "1                           LAAX Open - FIS World Cup  2020-01-13          23   \n",
       "2                              Toyota U.S. Grand Prix  2019-03-03          41   \n",
       "3           Burton US Open Snowboarding Championships  2019-03-02          13   \n",
       "4                   FIS World Snowboard Championships  2019-01-31          13   \n",
       "5                               FIS World Cup - Day 1  2019-01-11          48   \n",
       "6                                       Spring Battle  2018-03-17           1   \n",
       "7                                       FIS World Cup  2018-03-15           9   \n",
       "8           Burton US Open Snowboarding Championships  2018-03-05          26   \n",
       "9                     XXIII Olympic Winter Games 2018  2018-02-11          13   \n",
       "10       Audi Quattro Winter Games NZ - FIS World Cup  2017-09-01          39   \n",
       "11  Swiss Freestyle Champs presented by Audi Snowb...  2017-04-18          14   \n",
       "12                    FIS World Cup - Spindleruv Mlyn  2017-03-21          55   \n",
       "13  FIS 12th Snowboard World Championships - Sierr...  2017-03-09          28   \n",
       "14                         FIS World Cup - Seiser Alm  2017-01-23           5   \n",
       "15                                     LAAX OPEN 2017  2017-01-16          32   \n",
       "16                        FIS World Cup - Kreischberg  2017-01-14          43   \n",
       "\n",
       "    event_competitors  points_average  rank_percentile  time_multiplier  \\\n",
       "0                  49          338.36         0.367347              0.8   \n",
       "1                  58          398.55         0.396552              0.8   \n",
       "2                  58          385.43         0.706897              0.5   \n",
       "3                  29          528.30         0.448276              0.5   \n",
       "4                  58          362.89         0.224138              0.5   \n",
       "5                  50          303.95         0.960000              0.5   \n",
       "6                  31          400.68         0.032258              0.3   \n",
       "7                  55          303.48         0.163636              0.3   \n",
       "8                  32          490.45         0.812500              0.3   \n",
       "9                  35          401.17         0.371429              0.3   \n",
       "10                 54          404.79         0.722222              0.1   \n",
       "11                 64          196.57         0.218750              0.1   \n",
       "12                 65          324.23         0.846154              0.1   \n",
       "13                 60          316.03         0.466667              0.1   \n",
       "14                 55          297.86         0.090909              0.1   \n",
       "15                 59          357.09         0.542373              0.1   \n",
       "16                 59          318.30         0.728814              0.1   \n",
       "\n",
       "    level_multiplier  \n",
       "0                0.5  \n",
       "1                1.0  \n",
       "2                1.0  \n",
       "3                0.5  \n",
       "4                0.5  \n",
       "5                0.5  \n",
       "6                1.0  \n",
       "7                0.5  \n",
       "8                0.5  \n",
       "9                1.0  \n",
       "10               1.0  \n",
       "11               0.5  \n",
       "12               0.5  \n",
       "13               0.5  \n",
       "14               0.5  \n",
       "15               0.5  \n",
       "16               0.5  "
      ]
     },
     "execution_count": 149,
     "metadata": {},
     "output_type": "execute_result"
    }
   ],
   "source": [
    "df = pd.DataFrame(rider_results)\n",
    "df.drop(['event_link'], axis=1)"
   ]
  },
  {
   "cell_type": "markdown",
   "metadata": {},
   "source": [
    "Now we can apply the same calculation as before with the level multiplier to see what the result looks like"
   ]
  },
  {
   "cell_type": "code",
   "execution_count": 152,
   "metadata": {},
   "outputs": [
    {
     "name": "stdout",
     "output_type": "stream",
     "text": [
      "0.4694671549082217\n"
     ]
    }
   ],
   "source": [
    "weight_sum = 0\n",
    "weighted_percentile_sum = 0\n",
    "\n",
    "for event in rider_results:\n",
    "    weighted_percentile_sum += (event['rank_percentile'] * event['level_multiplier'])\n",
    "    weight_sum += event['level_multiplier']\n",
    "\n",
    "level_weighted_average = weighted_percentile_sum / weight_sum\n",
    "print(level_weighted_average)"
   ]
  },
  {
   "cell_type": "markdown",
   "metadata": {},
   "source": [
    "It seems like this change did not have a big effect, there is only a minimal change between the two weighted averages:"
   ]
  },
  {
   "cell_type": "code",
   "execution_count": 154,
   "metadata": {},
   "outputs": [
    {
     "data": {
      "text/plain": [
       "0.004683549584249547"
      ]
     },
     "execution_count": 154,
     "metadata": {},
     "output_type": "execute_result"
    }
   ],
   "source": [
    "abs(time_weighted_average - level_weighted_average)"
   ]
  },
  {
   "cell_type": "markdown",
   "metadata": {},
   "source": [
    "## Prediction 2 - Level weighted average of past results"
   ]
  },
  {
   "cell_type": "code",
   "execution_count": 155,
   "metadata": {},
   "outputs": [
    {
     "data": {
      "text/plain": [
       "24"
      ]
     },
     "execution_count": 155,
     "metadata": {},
     "output_type": "execute_result"
    }
   ],
   "source": [
    "round(level_weighted_average * ce_number_competitors)"
   ]
  },
  {
   "cell_type": "markdown",
   "metadata": {},
   "source": [
    "As expected, there is no change in the result - based on the second prediction, Clemens would still finish in **24th place**."
   ]
  },
  {
   "cell_type": "markdown",
   "metadata": {},
   "source": [
    "## Combination of both weights"
   ]
  },
  {
   "cell_type": "markdown",
   "metadata": {},
   "source": [
    "At last, we can try to see what happens if we consider both weights in our calculation. For this, we will simply add the values of time_average and level_average for each event and perform the calculation like that."
   ]
  },
  {
   "cell_type": "code",
   "execution_count": 156,
   "metadata": {},
   "outputs": [
    {
     "name": "stdout",
     "output_type": "stream",
     "text": [
      "0.46790597171347165\n"
     ]
    }
   ],
   "source": [
    "weight_sum = 0\n",
    "weighted_percentile_sum = 0\n",
    "\n",
    "for event in rider_results:\n",
    "    combined_multiplier = event['level_multiplier'] + event['time_multiplier']\n",
    "    weighted_percentile_sum += (event['rank_percentile'] * combined_multiplier)\n",
    "    weight_sum += combined_multiplier\n",
    "\n",
    "combined_weighted_average = weighted_percentile_sum / weight_sum\n",
    "print(combined_weighted_average)"
   ]
  },
  {
   "cell_type": "markdown",
   "metadata": {},
   "source": [
    "Again, we can see that the change of our multiplier is very minimal. Still, we can use it again to predict Clemens' result"
   ]
  },
  {
   "cell_type": "markdown",
   "metadata": {},
   "source": [
    "## Prediction 3 - Combined weighted average of level & time"
   ]
  },
  {
   "cell_type": "code",
   "execution_count": 157,
   "metadata": {},
   "outputs": [
    {
     "data": {
      "text/plain": [
       "24"
      ]
     },
     "execution_count": 157,
     "metadata": {},
     "output_type": "execute_result"
    }
   ],
   "source": [
    "round(combined_weighted_average * ce_number_competitors)"
   ]
  },
  {
   "cell_type": "markdown",
   "metadata": {},
   "source": [
    "The prediction still remains the same, with Clemens' supposedly finishing in **24th place**."
   ]
  },
  {
   "cell_type": "markdown",
   "metadata": {},
   "source": [
    "## Additional Tests"
   ]
  },
  {
   "cell_type": "markdown",
   "metadata": {},
   "source": [
    "As the original test was not too successful, a few more cases have been tested for predictions:"
   ]
  },
  {
   "cell_type": "markdown",
   "metadata": {},
   "source": [
    "**Mark McMorris at XGames Norway Slopestyle 2020**\n",
    "\n",
    "Prediction 1: 2nd place\n",
    "\n",
    "Prediction 2: 2nd place\n",
    "\n",
    "Prediction 3: 2nd place\n",
    "\n",
    "Actual Result: 2nd place"
   ]
  },
  {
   "cell_type": "markdown",
   "metadata": {},
   "source": [
    "**Stale Sandbech at US Open Slopestyle 2020**\n",
    "\n",
    "Prediction 1: 9th place\n",
    "\n",
    "Prediction 2: 9th place\n",
    "\n",
    "Prediction 3: 9th place\n",
    "\n",
    "Actual Result: 7th place"
   ]
  },
  {
   "cell_type": "markdown",
   "metadata": {},
   "source": [
    "**Jonas Boesiger at FIS Slopestyle World Cup Calgary 2020**\n",
    "\n",
    "Prediction 1: 12th place\n",
    "\n",
    "Prediction 2: 18th place\n",
    "\n",
    "Prediction 3: 16th place\n",
    "\n",
    "Actual Result: 15th place"
   ]
  },
  {
   "cell_type": "markdown",
   "metadata": {},
   "source": [
    "**Ryan Stassel at FIS Slopestyle World Cup China 2020**\n",
    "\n",
    "Prediction 1: 17th place\n",
    "\n",
    "Prediction 2: 20th place\n",
    "\n",
    "Prediction 3: 19th place\n",
    "\n",
    "Actual Result: 13th place"
   ]
  },
  {
   "cell_type": "markdown",
   "metadata": {},
   "source": [
    "As we can see, the results of the additional tests have been a lot more accurate than the example with Clemens - probably because Clemens' result was an outlier.\n",
    "\n",
    "Based on these tests, it is not entirely clear, which one of the predictions would be the most accurate. However, prediction 3 takes the most factors into account and could thus be seen as more promising than the others."
   ]
  },
  {
   "cell_type": "markdown",
   "metadata": {},
   "source": [
    "## Further ideas"
   ]
  },
  {
   "cell_type": "markdown",
   "metadata": {},
   "source": [
    "Needless to say, the calculations we used to not consider a whole lot of factors. For further development of the algorithm, these are some of the factors that could be considered for more accurate predictions:\n",
    "\n",
    "- Wheather situation at current and past events\n",
    "- Competition breaks by the athlete because of injury or similar\n",
    "- Discipline focus of the athlete\n",
    "- Who is and has been judging the athlete"
   ]
  }
 ],
 "metadata": {
  "kernelspec": {
   "display_name": "Python 3",
   "language": "python",
   "name": "python3"
  },
  "language_info": {
   "codemirror_mode": {
    "name": "ipython",
    "version": 3
   },
   "file_extension": ".py",
   "mimetype": "text/x-python",
   "name": "python",
   "nbconvert_exporter": "python",
   "pygments_lexer": "ipython3",
   "version": "3.8.2"
  }
 },
 "nbformat": 4,
 "nbformat_minor": 4
}
